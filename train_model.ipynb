from azureml.core import Workspace, Experiment
from azureml.core.environment import Environment
from azureml.core.conda_dependencies import CondaDependencies
from azureml.core.compute import AmlCompute, ComputeTarget
from azureml.core.run import Run
from azureml.core.model import Model

# Connect to Azure ML Workspace
ws = Workspace.from_config()  # Or manually provide subscription details

# Create a new experiment
experiment_name = 'predictive-maintenance-iot'
experiment = Experiment(workspace=ws, name=experiment_name)

# Define Compute Cluster (if not already existing)
cluster_name = "cpu-cluster"
try:
    compute_target = ComputeTarget(workspace=ws, name=cluster_name)
    print("Cluster exists.")
except:
    compute_config = AmlCompute.provisioning_configuration(vm_size='STANDARD_D3_V2', max_nodes=4)
    compute_target = ComputeTarget.create(ws, cluster_name, compute_config)

compute_target.wait_for_completion(show_output=True)

import pandas as pd
from sklearn.model_selection import train_test_split

# Load IoT data from Azure Blob Storage or local CSV
data = pd.read_csv('iot_data.csv')

# Feature Engineering: Creating features like average sensor readings, device age, etc.
data['device_age'] = (pd.to_datetime('now') - pd.to_datetime(data['install_date'])).dt.days

# Target: Failure Event (binary 0/1)
X = data[['sensor1', 'sensor2', 'sensor3', 'device_age']]  # feature columns
y = data['failure_event']  # target column

# Split data into training and test sets
X_train, X_test, y_train, y_test = train_test_split(X, y, test_size=0.2, random_state=42)


from sklearn.ensemble import RandomForestClassifier
from sklearn.metrics import accuracy_score

# Train the model
model = RandomForestClassifier(n_estimators=100, random_state=42)
model.fit(X_train, y_train)

# Make predictions and evaluate the model
y_pred = model.predict(X_test)
accuracy = accuracy_score(y_test, y_pred)
print(f"Model accuracy: {accuracy}")


from azureml.core import Run

# Start logging metrics in Azure ML
run = experiment.start_logging()
run.log("Accuracy", accuracy)

# Save the model
import joblib
joblib.dump(model, "rf_model.pkl")
run.upload_file(name="outputs/rf_model.pkl", path_or_stream="rf_model.pkl")

run.complete()


from azureml.core.model import InferenceConfig
from azureml.core.webservice import AciWebservice, Webservice

# Register the model in Azure ML
model = Model.register(workspace=ws, model_name='predictive_maintenance_model', model_path="rf_model.pkl")

# Define inference configuration (e.g., the environment for the web service)
inference_config = InferenceConfig(entry_script="score.py", environment=Environment.get(ws, "AzureML-sklearn-1.0-ubuntu20.04-py38-cpu"))

# Set up ACI deployment
deployment_config = AciWebservice.deploy_configuration(cpu_cores=1, memory_gb=1)

# Deploy the service
service_name = 'predictive-maintenance-service'
service = Model.deploy(workspace=ws, name=service_name, models=[model], inference_config=inference_config, deployment_config=deployment_config)
service.wait_for_deployment(show_output=True)

print(f"Service state: {service.state}")

import requests
import json

# Prepare data for the test
test_data = json.dumps({
    'data': X_test[:5].values.tolist()
})

# Send data to the service
url = service.scoring_uri
headers = {'Content-Type': 'application/json'}
response = requests.post(url, data=test_data, headers=headers)

print(f"Predicted results: {response.text}")
